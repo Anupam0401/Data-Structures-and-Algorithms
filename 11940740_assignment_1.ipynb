{
 "cells": [
  {
   "cell_type": "markdown",
   "metadata": {},
   "source": [
    "### Name: Nikhil Chaudhary\n",
    "### Roll no: 11940740"
   ]
  },
  {
   "cell_type": "code",
   "execution_count": 5,
   "metadata": {},
   "outputs": [],
   "source": [
    "from numpy import dot, array"
   ]
  },
  {
   "cell_type": "code",
   "execution_count": 6,
   "metadata": {},
   "outputs": [],
   "source": [
    "def fn(x):\n",
    "    return 2*x[0]**2 + 4*x[0]*x[1] + 4*x[1]**2 + 2*x[1] - 4*x[0] + 16\n",
    "\n",
    "\n",
    "def gradient_f(x):\n",
    "    g = [4*x[0] + 4*x[1] - 4, 4*x[0] + 8*x[1] + 2]\n",
    "    return array(g)\n",
    "\n",
    "\n",
    "def hessian_f(x):\n",
    "    return array([[4, 4], [4, 8]])"
   ]
  },
  {
   "cell_type": "code",
   "execution_count": 7,
   "metadata": {},
   "outputs": [
    {
     "name": "stdout",
     "output_type": "stream",
     "text": [
      "Minimum occurs at:  [ 2.49985776 -1.49991466]\n",
      "The value at minimum point is:  9.500000021041334\n"
     ]
    }
   ],
   "source": [
    "def steepest_descent(x, d1, d2, d3, iter_lim):\n",
    "    \n",
    "    for _ in range(iter_lim):\n",
    "\n",
    "        f, g, h = fn(x),  gradient_f(x), hessian_f(x)   \n",
    "\n",
    "        d_k = -g\n",
    "\n",
    "        lambda_k = -dot(g.T, d_k)/dot(dot(d_k.T, h), d_k)\n",
    "\n",
    "        x = x + lambda_k*d_k\n",
    "        dx = lambda_k*d_k\n",
    "\n",
    "        if abs(f - fn(x)) < d1:\n",
    "            break\n",
    "        if dot(g.T, g) < d3:\n",
    "            break     \n",
    "        if dot(dx.T, dx) < d2:\n",
    "            break\n",
    "            \n",
    "    return x, fn(x)\n",
    "\n",
    "x, f_x = steepest_descent(array([0, 0]), 1e-6, 1e-6, 1e-6, 10000)\n",
    "print(\"Minimum occurs at: \", x)\n",
    "print(\"The value at minimum point is: \", f_x)"
   ]
  },
  {
   "cell_type": "code",
   "execution_count": 8,
   "metadata": {},
   "outputs": [
    {
     "name": "stdout",
     "output_type": "stream",
     "text": [
      "Minimum occurs at:  [ 2.50031654 -1.50015948]\n",
      "The value at minimum point is:  9.500000100206137\n"
     ]
    }
   ],
   "source": [
    "def conjugate_descent(x, d1, d2, d3, iter_lim):\n",
    "\n",
    "    f, g, h, d_k = fn(x), gradient_f(x), hessian_f(x), -gradient_f(x)\n",
    "    \n",
    "    for _ in range(iter_lim):\n",
    "        \n",
    "        g_old = g\n",
    "        f, g, h = fn(x), gradient_f(x), hessian_f(x),\n",
    "        \n",
    "        beta_k = dot(g.T, g)/dot(g_old.T, g_old)\n",
    "        d_k = -g + beta_k*d_k\n",
    "\n",
    "        lambda_k = -dot(g.T, d_k)/dot(dot(d_k.T, h), d_k)        \n",
    "        \n",
    "        x = x + lambda_k*d_k\n",
    "        dx = lambda_k*d_k\n",
    "\n",
    "        if abs(f - fn(x)) < d1:\n",
    "            break\n",
    "        if dot(g.T, g) < d3:\n",
    "            break\n",
    "        if dot(dx.T, dx) < d2:\n",
    "            break\n",
    "            \n",
    "    return x, fn(x)\n",
    "\n",
    "x, f_x = conjugate_descent(array([0, 0]), 1e-6, 1e-6, 1e-6, 10000)\n",
    "print(\"Minimum occurs at: \", x)\n",
    "print(\"The value at minimum point is: \", f_x)"
   ]
  }
 ],
 "metadata": {
  "kernelspec": {
   "display_name": "mt",
   "language": "python",
   "name": "python3"
  },
  "language_info": {
   "codemirror_mode": {
    "name": "ipython",
    "version": 3
   },
   "file_extension": ".py",
   "mimetype": "text/x-python",
   "name": "python",
   "nbconvert_exporter": "python",
   "pygments_lexer": "ipython3",
   "version": "3.7.6"
  },
  "orig_nbformat": 4,
  "vscode": {
   "interpreter": {
    "hash": "d12a3414d241d65a277b7f30b382402d48a02aa8eae8e087a847021345a94c7b"
   }
  }
 },
 "nbformat": 4,
 "nbformat_minor": 2
}
