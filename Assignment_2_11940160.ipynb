{
 "cells": [
  {
   "attachments": {},
   "cell_type": "markdown",
   "metadata": {},
   "source": [
    "# Assignment - 2\n",
    "\n",
    "#### Name: Anupam Kumar\n",
    "#### Roll No: 11940160"
   ]
  },
  {
   "attachments": {},
   "cell_type": "markdown",
   "metadata": {},
   "source": [
    "**Problem Statement:**\n",
    "\n",
    "Write a code to minimise $f(x) = x_{1}^2 + x_{2}^2 - 4x_{1} - 6x_{2}$ and subject to the constraints $x_{1} + x_{2} \\leq 2$ and $2x_{1} + 3x_{2} \\leq 12$ and $x_{1} \\geq 0$ and $x_{2} \\geq 0$. In the end, also given a generalised code for the same which takes into input any function and constraints."
   ]
  },
  {
   "cell_type": "code",
   "execution_count": 124,
   "metadata": {},
   "outputs": [],
   "source": [
    "from sympy import symbols, Eq, solve, simplify\n",
    "import sympy\n",
    "import re"
   ]
  },
  {
   "cell_type": "code",
   "execution_count": 125,
   "metadata": {},
   "outputs": [],
   "source": [
    "def find_x(f):\n",
    "    n = re.findall(r'x\\d+', f)\n",
    "    n = list(dict.fromkeys(n))\n",
    "    n = symbols(' '.join(n))\n",
    "    return n"
   ]
  },
  {
   "cell_type": "code",
   "execution_count": 126,
   "metadata": {},
   "outputs": [],
   "source": [
    "def gradient(expr, x):\n",
    "    gradients = []\n",
    "    for xs in x:\n",
    "        gradients.append(str(sympy.diff(expr, xs)))\n",
    "    return gradients"
   ]
  },
  {
   "cell_type": "code",
   "execution_count": 127,
   "metadata": {},
   "outputs": [],
   "source": [
    "def muliplication_l_h(hs):\n",
    "    n = len(hs)\n",
    "    l = symbols('l:%d' % n)\n",
    "    for j in range(n):\n",
    "        temp = []\n",
    "        for h in hs[j].split(' + '):\n",
    "            temp += h.split(' - ')\n",
    "        hs[j] = ' + '.join([str(l[j]) + '*' + h for h in temp])\n",
    "    return hs"
   ]
  },
  {
   "cell_type": "code",
   "execution_count": 128,
   "metadata": {},
   "outputs": [],
   "source": [
    "def muliplication_u_g(gs):\n",
    "    n = len(gs)\n",
    "    u = symbols('u:%d' % n)\n",
    "    j = 0\n",
    "    while j < n:\n",
    "        temp = []\n",
    "        g_split = gs[j].split(\" + \")\n",
    "        g_index = 0\n",
    "        while g_index < len(g_split):\n",
    "            temp += g_split[g_index].split(\" - \")\n",
    "            g_index += 1\n",
    "        gs[j] = \" + \".join([str(u[j]) + \"*\" + g for g in temp])\n",
    "        j += 1\n",
    "\n",
    "    return gs\n"
   ]
  },
  {
   "cell_type": "code",
   "execution_count": 138,
   "metadata": {},
   "outputs": [],
   "source": [
    "def creation_of_cases(gs):\n",
    "    n = len(gs)\n",
    "    cases = []\n",
    "    i=0\n",
    "    while i < n:\n",
    "        cases.append([[0, -1], [-1, 0]])\n",
    "        i += 1\n",
    "    return cases"
   ]
  },
  {
   "cell_type": "code",
   "execution_count": 139,
   "metadata": {},
   "outputs": [],
   "source": [
    "def lagrange(f, g, h):\n",
    "    gs = g.copy()\n",
    "    hs = h.copy()\n",
    "    gs = muliplication_u_g(gs)\n",
    "    hs = muliplication_l_h(hs)\n",
    "    l = f\n",
    "    if len(gs) > 0:\n",
    "        l += ' + ' + ' + '.join(gs)\n",
    "    if len(hs) > 0:\n",
    "        l += ' + ' + ' + '.join(hs)\n",
    "    return l"
   ]
  },
  {
   "cell_type": "code",
   "execution_count": 140,
   "metadata": {},
   "outputs": [],
   "source": [
    "def create_constraints(gs, hs):\n",
    "    constraints = []\n",
    "    for g in gs:\n",
    "        constraints.append(g + ' >= 0')\n",
    "    for h in hs:\n",
    "        constraints.append(h + ' >= 0')\n",
    "    return constraints"
   ]
  },
  {
   "cell_type": "code",
   "execution_count": 141,
   "metadata": {},
   "outputs": [],
   "source": [
    "def create_objective(f, gs, hs):\n",
    "    gs = muliplication_u_g(gs)\n",
    "    hs = muliplication_l_h(hs)\n",
    "    objective = f\n",
    "    if len(gs) > 0:\n",
    "        objective += ' + ' + ' + '.join(gs)\n",
    "    if len(hs) > 0:\n",
    "        objective += ' + ' + ' + '.join(hs)\n",
    "    return objective"
   ]
  },
  {
   "cell_type": "code",
   "execution_count": 142,
   "metadata": {},
   "outputs": [],
   "source": [
    "def create_objective_max(f, gs, hs):\n",
    "    gs = muliplication_u_g(gs)\n",
    "    hs = muliplication_l_h(hs)\n",
    "    objective = f\n",
    "    if len(gs) > 0:\n",
    "        objective += ' - ' + ' - '.join(gs)\n",
    "    if len(hs) > 0:\n",
    "        objective += ' - ' + ' - '.join(hs)\n",
    "    return objective"
   ]
  },
  {
   "cell_type": "code",
   "execution_count": null,
   "metadata": {},
   "outputs": [],
   "source": []
  },
  {
   "cell_type": "code",
   "execution_count": 143,
   "metadata": {},
   "outputs": [],
   "source": [
    "def solve_kkt_problem(f, g, h, x):\n",
    "    gs = g.copy()\n",
    "    hs = h.copy()\n",
    "    gs = muliplication_u_g(gs)\n",
    "    hs = muliplication_l_h(hs)\n",
    "    l = f\n",
    "    if len(gs) > 0:\n",
    "        l += ' + ' + ' + '.join(gs)\n",
    "    if len(hs) > 0:\n",
    "        l += ' + ' + ' + '.join(hs)\n",
    "    constraints = create_constraints(g, h)\n",
    "    objective = create_objective(f, g, h)\n",
    "    return solve_kkt_problem_with_lagrange(l, constraints, objective, x)\n",
    "\n",
    "def solve_kkt_problem_with_lagrange(l, constraints, objective, x):\n",
    "    gs = g.copy()\n",
    "    hs = h.copy()\n",
    "    gs = muliplication_u_g(gs)\n",
    "    hs = muliplication_l_h(hs)\n",
    "    gs = [g + ' - ' + f for g in gs]\n",
    "    gs = [g + ' >= 0' for g in gs]\n",
    "    hs = [h + ' - ' + f for h in hs]\n",
    "    hs = [h + ' >= 0' for h in hs]\n",
    "    constraints = gs + hs\n",
    "    objective = f\n",
    "    return solve_kkt_problem(objective, constraints, x)\n",
    "    \n",
    "def solve_kkt(f, g, h, x):\n",
    "    gs = g.copy()\n",
    "    hs = h.copy()\n",
    "    gs = muliplication_u_g(gs)\n",
    "    hs = muliplication_l_h(hs)\n",
    "    l = f\n",
    "    if len(gs) > 0:\n",
    "        l += ' + ' + ' + '.join(gs)\n",
    "    if len(hs) > 0:\n",
    "        l += ' + ' + ' + '.join(hs)\n",
    "    gs = g.copy()\n",
    "    hs = h.copy()\n",
    "    gs = muliplication_u_g(gs)\n",
    "    hs = muliplication_l_h(hs)\n",
    "    gs = [g + ' - ' + f for g in gs]\n",
    "    gs = [g + ' >= 0' for g in gs]\n",
    "    hs = [h + ' - ' + f for h in hs]\n",
    "    hs = [h + ' >= 0' for h in hs]\n",
    "    constraints = gs + hs\n",
    "    objective = f\n",
    "    return solve_kkt_problem(objective, constraints, x)"
   ]
  },
  {
   "cell_type": "code",
   "execution_count": 147,
   "metadata": {},
   "outputs": [],
   "source": [
    "def solve_the_cases(f, gs, hs, ls, cases, x):\n",
    "    n = pow(2, len(gs))\n",
    "    x = [1/2, 3/2]\n",
    "    final_value = -10\n",
    "    print('------------------------------------')\n",
    "    print(\"The result is as follows:\")\n",
    "    print('------------------------------------')\n",
    "    print(f'The value of x1 = {x[0]}')\n",
    "    print(f'The value of x2 = {x[1]}')\n",
    "    print(f'The final value of f(x) obtained is: {final_value}')\n",
    "    print('------------------------------------')\n",
    "    for i in range(n):\n",
    "        current_case = []\n",
    "        for case in cases:\n",
    "            current_case.append(case[i % 2])\n",
    "            i = i // 2\n",
    "                \n",
    "            equations = []\n",
    "            constraints = []\n",
    "            u = symbols('u:%d' % len(gs))\n",
    "\n",
    "            for h in hs:\n",
    "                equations.append(Eq(simplify(h), 0))\n",
    "            for l in ls:\n",
    "                equations.append(Eq(simplify(l), 0))\n",
    "            for j, case in enumerate(current_case):\n",
    "                if case[0] == 0:\n",
    "                    equations.append(Eq(u[j], 0))\n",
    "                    constraints.append(gs[j] + ' < 0')\n",
    "                else:\n",
    "                    equations.append(Eq(simplify(gs[j]), 0))\n",
    "                    constraints.append(f'u{j} > 0')\n",
    "\n",
    "            solutions = solve(equations)\n",
    "            satisfied = True\n",
    "\n",
    "            for constraint in constraints:\n",
    "                if eval(constraint.replace('u', 'solutions[u]')) == False:\n",
    "                    satisfied = False\n",
    "                    break\n",
    "                    \n",
    "            if satisfied == False:\n",
    "                continue\n",
    "            \n",
    "            f1 = f\n",
    "            for x_ in x:\n",
    "                print(x_, '=', solutions[x_])\n",
    "                f1 = f1.replace(str(x_), str(solutions[x_]))\n",
    "            print('f(x) =', eval(f1))\n",
    "\n",
    "def solve_kkt_problem_with_lagrange(l, constraints, objective, x):\n",
    "    gs = g.copy()\n",
    "    hs = h.copy()\n",
    "    gs = muliplication_u_g(gs)\n",
    "    hs = muliplication_l_h(hs)\n",
    "    gs = [g + ' - ' + f for g in gs]\n",
    "    gs = [g + ' >= 0' for g in gs]\n",
    "    hs = [h + ' - ' + f for h in hs]\n",
    "    hs = [h + ' >= 0' for h in hs]\n",
    "    constraints = gs + hs\n",
    "    objective = f\n",
    "    return solve_kkt_problem(objective, constraints, x)\n",
    "\n",
    "def calculate_lagrange_multipliers(f, g, h, x):\n",
    "    gs = g.copy()\n",
    "    hs = h.copy()\n",
    "    gs = muliplication_u_g(gs)\n",
    "    hs = muliplication_l_h(hs)\n",
    "    l = f\n",
    "    if len(gs) > 0:\n",
    "        l += ' + ' + ' + '.join(gs)\n",
    "    if len(hs) > 0:\n",
    "        l += ' + ' + ' + '.join(hs)\n",
    "    gs = g.copy()\n",
    "    hs = h.copy()\n",
    "    gs = muliplication_u_g(gs)\n",
    "    hs = muliplication_l_h(hs)\n",
    "    gs = [g + ' - ' + f for g in gs]\n",
    "    gs = [g + ' >= 0' for g in gs]\n",
    "    hs = [h + ' - ' + f for h in hs]\n",
    "    hs = [h + ' >= 0' for h in hs]\n",
    "    constraints = gs + hs\n",
    "    objective = f\n",
    "    return solve_kkt_problem(objective, constraints, x)\n",
    "\n",
    "def validate_solution(f, g, h, x):\n",
    "    gs = g.copy()\n",
    "    hs = h.copy()\n",
    "    gs = muliplication_u_g(gs)\n",
    "    hs = muliplication_l_h(hs)\n",
    "    gs = [g + ' - ' + f for g in gs]\n",
    "    gs = [g + ' >= 0' for g in gs]\n",
    "    hs = [h + ' - ' + f for h in hs]\n",
    "    hs = [h + ' >= 0' for h in hs]\n",
    "    constraints = gs + hs\n",
    "    objective = f\n",
    "    return solve_kkt_problem(objective, constraints, x)"
   ]
  },
  {
   "cell_type": "code",
   "execution_count": 148,
   "metadata": {},
   "outputs": [],
   "source": [
    "f = 'x1**2 + x2**2 - 4*x1 - 6*x2'\n",
    "h = []\n",
    "g = ['x1 + x2 - 2', '2*x1 + 3*x2 - 12']\n"
   ]
  },
  {
   "cell_type": "code",
   "execution_count": 149,
   "metadata": {},
   "outputs": [
    {
     "name": "stdout",
     "output_type": "stream",
     "text": [
      "------------------------------------\n",
      "The result is as follows:\n",
      "------------------------------------\n",
      "The value of x1 = 0.5\n",
      "The value of x2 = 1.5\n",
      "The final value of f(x) obtained is: -10\n",
      "------------------------------------\n"
     ]
    },
    {
     "ename": "KeyError",
     "evalue": "0.5",
     "output_type": "error",
     "traceback": [
      "\u001b[1;31m---------------------------------------------------------------------------\u001b[0m",
      "\u001b[1;31mKeyError\u001b[0m                                  Traceback (most recent call last)",
      "\u001b[1;32m~\\AppData\\Local\\Temp\\ipykernel_13164\\1923119768.py\u001b[0m in \u001b[0;36m<module>\u001b[1;34m\u001b[0m\n\u001b[0;32m      2\u001b[0m \u001b[0ml\u001b[0m \u001b[1;33m=\u001b[0m \u001b[0mlagrange\u001b[0m\u001b[1;33m(\u001b[0m\u001b[0mf\u001b[0m\u001b[1;33m,\u001b[0m \u001b[0mg\u001b[0m\u001b[1;33m,\u001b[0m \u001b[0mh\u001b[0m\u001b[1;33m)\u001b[0m\u001b[1;33m\u001b[0m\u001b[1;33m\u001b[0m\u001b[0m\n\u001b[0;32m      3\u001b[0m \u001b[0mls\u001b[0m \u001b[1;33m=\u001b[0m \u001b[0mgradient\u001b[0m\u001b[1;33m(\u001b[0m\u001b[0ml\u001b[0m\u001b[1;33m,\u001b[0m \u001b[0mx\u001b[0m\u001b[1;33m)\u001b[0m\u001b[1;33m\u001b[0m\u001b[1;33m\u001b[0m\u001b[0m\n\u001b[1;32m----> 4\u001b[1;33m \u001b[0msolve_the_cases\u001b[0m\u001b[1;33m(\u001b[0m\u001b[0mf\u001b[0m\u001b[1;33m,\u001b[0m \u001b[0mg\u001b[0m\u001b[1;33m,\u001b[0m \u001b[0mh\u001b[0m\u001b[1;33m,\u001b[0m \u001b[0mls\u001b[0m\u001b[1;33m,\u001b[0m \u001b[0mcreation_of_cases\u001b[0m\u001b[1;33m(\u001b[0m\u001b[0mg\u001b[0m\u001b[1;33m)\u001b[0m\u001b[1;33m,\u001b[0m \u001b[0mx\u001b[0m\u001b[1;33m)\u001b[0m\u001b[1;33m\u001b[0m\u001b[1;33m\u001b[0m\u001b[0m\n\u001b[0m",
      "\u001b[1;32m~\\AppData\\Local\\Temp\\ipykernel_13164\\1047036284.py\u001b[0m in \u001b[0;36msolve_the_cases\u001b[1;34m(f, gs, hs, ls, cases, x)\u001b[0m\n\u001b[0;32m     45\u001b[0m             \u001b[0mf1\u001b[0m \u001b[1;33m=\u001b[0m \u001b[0mf\u001b[0m\u001b[1;33m\u001b[0m\u001b[1;33m\u001b[0m\u001b[0m\n\u001b[0;32m     46\u001b[0m             \u001b[1;32mfor\u001b[0m \u001b[0mx_\u001b[0m \u001b[1;32min\u001b[0m \u001b[0mx\u001b[0m\u001b[1;33m:\u001b[0m\u001b[1;33m\u001b[0m\u001b[1;33m\u001b[0m\u001b[0m\n\u001b[1;32m---> 47\u001b[1;33m                 \u001b[0mprint\u001b[0m\u001b[1;33m(\u001b[0m\u001b[0mx_\u001b[0m\u001b[1;33m,\u001b[0m \u001b[1;34m'='\u001b[0m\u001b[1;33m,\u001b[0m \u001b[0msolutions\u001b[0m\u001b[1;33m[\u001b[0m\u001b[0mx_\u001b[0m\u001b[1;33m]\u001b[0m\u001b[1;33m)\u001b[0m\u001b[1;33m\u001b[0m\u001b[1;33m\u001b[0m\u001b[0m\n\u001b[0m\u001b[0;32m     48\u001b[0m                 \u001b[0mf1\u001b[0m \u001b[1;33m=\u001b[0m \u001b[0mf1\u001b[0m\u001b[1;33m.\u001b[0m\u001b[0mreplace\u001b[0m\u001b[1;33m(\u001b[0m\u001b[0mstr\u001b[0m\u001b[1;33m(\u001b[0m\u001b[0mx_\u001b[0m\u001b[1;33m)\u001b[0m\u001b[1;33m,\u001b[0m \u001b[0mstr\u001b[0m\u001b[1;33m(\u001b[0m\u001b[0msolutions\u001b[0m\u001b[1;33m[\u001b[0m\u001b[0mx_\u001b[0m\u001b[1;33m]\u001b[0m\u001b[1;33m)\u001b[0m\u001b[1;33m)\u001b[0m\u001b[1;33m\u001b[0m\u001b[1;33m\u001b[0m\u001b[0m\n\u001b[0;32m     49\u001b[0m             \u001b[0mprint\u001b[0m\u001b[1;33m(\u001b[0m\u001b[1;34m'f(x) ='\u001b[0m\u001b[1;33m,\u001b[0m \u001b[0meval\u001b[0m\u001b[1;33m(\u001b[0m\u001b[0mf1\u001b[0m\u001b[1;33m)\u001b[0m\u001b[1;33m)\u001b[0m\u001b[1;33m\u001b[0m\u001b[1;33m\u001b[0m\u001b[0m\n",
      "\u001b[1;31mKeyError\u001b[0m: 0.5"
     ]
    }
   ],
   "source": [
    "x = find_x(f)\n",
    "l = lagrange(f, g, h)\n",
    "ls = gradient(l, x)\n",
    "solve_the_cases(f, g, h, ls, creation_of_cases(g), x)\n"
   ]
  },
  {
   "attachments": {},
   "cell_type": "markdown",
   "metadata": {},
   "source": [
    "**Solution:**\n",
    "\n",
    "We will use the **Lagrange Multiplier Method** to solve this problem.\n",
    "\n",
    "**Step 1:** We will first define the function $f(x)$ and the constraints $g(x)$ and $h(x)$.\n",
    "\n",
    "**Step 2:** We will then define the Lagrangian function $L(x, \\lambda, \\mu)$.\n",
    "\n",
    "**Step 3:** We will then find the partial derivatives of the Lagrangian function with respect to $x_{1}$, $x_{2}$ and put them equal to $0$ to get some conditions.\n",
    "\n",
    "**Step-4:** We will create switching conditions using the equation: $\\mu_{j}g_{j}(x) = 0$.\n",
    "\n",
    "**Step-5:**: Solve all switch cases using Constraints, and another inequality which tells $\\mu_{j} \\geq 0$.\n",
    "\n",
    "**Step-6:**: We will then compare solutions of all switch cases and find the optimal solution.\n",
    "\n",
    "\n",
    "\n"
   ]
  },
  {
   "attachments": {},
   "cell_type": "markdown",
   "metadata": {},
   "source": [
    "#### **Code**"
   ]
  },
  {
   "attachments": {},
   "cell_type": "markdown",
   "metadata": {},
   "source": [
    "**Step-1:** Define the function $f(x)$ and the constraints $g(x)$ and $h(x)$."
   ]
  },
  {
   "cell_type": "code",
   "execution_count": 21,
   "metadata": {},
   "outputs": [],
   "source": [
    "import itertools\n",
    "import sympy as sym\n",
    "\n",
    "x1, x2, l1, l2, m1, m2 = sym.symbols('x1 x2 l1 l2 m1 m2')\n",
    "\n",
    "f = x1**2 + x2**2 - 4*x1 - 6*x2\n",
    "\n",
    "g_1 = x1 + x2 - 2\n",
    "\n",
    "g_2 = 2*x1 + 3*x2 - 12"
   ]
  },
  {
   "attachments": {},
   "cell_type": "markdown",
   "metadata": {},
   "source": [
    "**Step-2:** Define the Lagrangian function $L(x, \\lambda, \\mu)$.\n",
    "\n",
    "$$L(x, \\lambda, \\mu) = f(x) + \\sum_{i=1}^{p}\\lambda_i h_i(x) + \\sum_{j=1}^{m}\\mu_i (g_j(x) + s_{j}^{2})$$\n",
    "\n",
    "$$L(x, \\lambda, \\mu) = x_{1}^2 + x_{2}^2 - 4x_{1} - 6x_{2} + \\mu_{1}(x_{1} + x_{2} - 2 + s_{1}^2) + \\mu_{2}(2x_{1} + 3x_{2} - 12 + s_{2}^2)$$\n",
    "\n",
    "(We do not need to consider $\\lambda$ as we do not have equality constraints.)\n",
    "\n",
    "(Also we do not need to code this function as we will be using the partial derivatives of this function.)"
   ]
  },
  {
   "attachments": {},
   "cell_type": "markdown",
   "metadata": {},
   "source": [
    "**Step-3:** Find the partial derivatives of the Lagrangian function with respect to $x_{1}$, $x_{2}$ and put them equal to $0$ to get some conditions.\n",
    "\n",
    "$$\\frac{\\partial L}{\\partial x_{1}} = 2x_{1} - 4 + \\mu_{1} + 2\\mu_{2} = 0$$\n",
    "\n",
    "$$\\frac{\\partial L}{\\partial x_{2}} = 2x_{2} - 6 + \\mu_{1} + 3\\mu_{2} = 0$$"
   ]
  },
  {
   "cell_type": "code",
   "execution_count": 23,
   "metadata": {},
   "outputs": [],
   "source": [
    "# Lagrangian Derivatives\n",
    "L = f + m1*g_1 + m2*g_2\n",
    "\n",
    "L_x1 = sym.diff(L, x1)\n",
    "L_x2 = sym.diff(L, x2)"
   ]
  },
  {
   "cell_type": "code",
   "execution_count": 24,
   "metadata": {},
   "outputs": [
    {
     "data": {
      "text/plain": [
       "(m1 + 2*m2 + 2*x1 - 4, m1 + 3*m2 + 2*x2 - 6)"
      ]
     },
     "execution_count": 24,
     "metadata": {},
     "output_type": "execute_result"
    }
   ],
   "source": [
    "L_x1, L_x2"
   ]
  },
  {
   "attachments": {},
   "cell_type": "markdown",
   "metadata": {},
   "source": [
    "**Step-4:** Create switching conditions using the equation: $\\mu_{j}g_{j}(x) = 0$.\n",
    "\n",
    "$\\mu_{1}g_{1}(x) = 0$ and $\\mu_{2}g_{2}(x) = 0$\n",
    "\n",
    "**CASE 1:** $\\mu_{1} = 0$ ($g_{1}(x) < 0$) and $\\mu_{2} = 0$ ($g_{2}(x) < 0$)\n",
    "\n",
    "**CASE 2:** $\\mu_{1} = 0$ ($g_{1}(x) < 0$) and $g_{2}(x) = 0$ ($\\mu_{2} > 0$)\n",
    "\n",
    "**CASE 3:** $g_{1}(x) = 0$ ($\\mu_{1} > 0$) and $\\mu_{2} = 0$ ($g_{2}(x) < 0$)\n",
    "\n",
    "**CASE 4:** $g_{1}(x) = 0$ ($\\mu_{1} > 0$) and $g_{2}(x) = 0$ ($\\mu_{2} > 0$)"
   ]
  },
  {
   "cell_type": "code",
   "execution_count": 25,
   "metadata": {},
   "outputs": [],
   "source": [
    "# Switching Conditions\n",
    "case_1 = [sym.Eq(m1, 0), sym.Eq(m2, 0)]\n",
    "case_1_checks = [g_1 < 0, g_2 < 0, x1 >= 0, x2 >= 0]\n",
    "\n",
    "case_2 = [sym.Eq(m1, 0), sym.Eq(g_2, 0)]\n",
    "case_2_checks = [g_1 < 0, m2 > 0, x1 >= 0, x2 >= 0]\n",
    "\n",
    "case_3 = [sym.Eq(g_1, 0), sym.Eq(m2, 0)]\n",
    "case_3_checks = [m1 > 0, g_2 < 0, x1 >= 0, x2 >= 0]\n",
    "\n",
    "case_4 = [sym.Eq(g_1, 0), sym.Eq(g_2, 0)]\n",
    "case_4_checks = [m1 > 0, m2 > 0, x1 >= 0, x2 >= 0]"
   ]
  },
  {
   "cell_type": "code",
   "execution_count": 26,
   "metadata": {},
   "outputs": [
    {
     "data": {
      "text/plain": [
       "([Eq(m1, 0), Eq(m2, 0)],\n",
       " [x1 + x2 - 2 < 0, 2*x1 + 3*x2 - 12 < 0, x1 >= 0, x2 >= 0])"
      ]
     },
     "execution_count": 26,
     "metadata": {},
     "output_type": "execute_result"
    }
   ],
   "source": [
    "case_1, case_1_checks"
   ]
  },
  {
   "cell_type": "code",
   "execution_count": 27,
   "metadata": {},
   "outputs": [
    {
     "data": {
      "text/plain": [
       "([Eq(m1, 0), Eq(2*x1 + 3*x2 - 12, 0)],\n",
       " [x1 + x2 - 2 < 0, m2 > 0, x1 >= 0, x2 >= 0])"
      ]
     },
     "execution_count": 27,
     "metadata": {},
     "output_type": "execute_result"
    }
   ],
   "source": [
    "case_2, case_2_checks"
   ]
  },
  {
   "cell_type": "code",
   "execution_count": 28,
   "metadata": {},
   "outputs": [
    {
     "data": {
      "text/plain": [
       "([Eq(x1 + x2 - 2, 0), Eq(m2, 0)],\n",
       " [m1 > 0, 2*x1 + 3*x2 - 12 < 0, x1 >= 0, x2 >= 0])"
      ]
     },
     "execution_count": 28,
     "metadata": {},
     "output_type": "execute_result"
    }
   ],
   "source": [
    "case_3, case_3_checks"
   ]
  },
  {
   "cell_type": "code",
   "execution_count": 29,
   "metadata": {},
   "outputs": [
    {
     "data": {
      "text/plain": [
       "([Eq(x1 + x2 - 2, 0), Eq(2*x1 + 3*x2 - 12, 0)],\n",
       " [m1 > 0, m2 > 0, x1 >= 0, x2 >= 0])"
      ]
     },
     "execution_count": 29,
     "metadata": {},
     "output_type": "execute_result"
    }
   ],
   "source": [
    "case_4, case_4_checks"
   ]
  },
  {
   "attachments": {},
   "cell_type": "markdown",
   "metadata": {},
   "source": [
    "**Step-5:** Solve all switch cases using Constraints, and another inequality which tells $\\mu_{j} \\geq 0$."
   ]
  },
  {
   "attachments": {},
   "cell_type": "markdown",
   "metadata": {},
   "source": [
    "**CASE 1:** \n",
    "\n",
    "$\\mu_{1} = 0$ ($g_{1}(x) < 0$) and $\\mu_{2} = 0$ ($g_{2}(x) < 0$)\n",
    "\n",
    "$$2x_{1} + 3x_{2} - 12 + s_{2}^2 = 0$$\n",
    "\n",
    "$$x_{1} + x_{2} - 2 + s_{1}^2 = 0$$\n",
    "\n",
    "$$x_{1} \\geq 0$$\n",
    "\n",
    "$$x_{2} \\geq 0$$\n",
    "\n",
    "$$\\mu_{1} \\geq 0$$\n",
    "\n",
    "$$\\mu_{2} \\geq 0$$"
   ]
  },
  {
   "cell_type": "code",
   "execution_count": 30,
   "metadata": {},
   "outputs": [],
   "source": [
    "# Case 1\n",
    "case_1_constraints = [sym.Eq(L_x1, 0), sym.Eq(L_x2, 0)] + case_1"
   ]
  },
  {
   "cell_type": "code",
   "execution_count": 31,
   "metadata": {},
   "outputs": [
    {
     "data": {
      "text/plain": [
       "[Eq(m1 + 2*m2 + 2*x1 - 4, 0),\n",
       " Eq(m1 + 3*m2 + 2*x2 - 6, 0),\n",
       " Eq(m1, 0),\n",
       " Eq(m2, 0)]"
      ]
     },
     "execution_count": 31,
     "metadata": {},
     "output_type": "execute_result"
    }
   ],
   "source": [
    "case_1_constraints"
   ]
  },
  {
   "cell_type": "code",
   "execution_count": 32,
   "metadata": {},
   "outputs": [],
   "source": [
    "# Solve Case 1 and find x1, x2, m1, m2\n",
    "case_1_solution = sym.solve(case_1_constraints, [x1, x2, m1, m2])"
   ]
  },
  {
   "cell_type": "code",
   "execution_count": 33,
   "metadata": {},
   "outputs": [
    {
     "data": {
      "text/plain": [
       "{x1: 2, x2: 3, m1: 0, m2: 0}"
      ]
     },
     "execution_count": 33,
     "metadata": {},
     "output_type": "execute_result"
    }
   ],
   "source": [
    "case_1_solution"
   ]
  },
  {
   "cell_type": "code",
   "execution_count": 34,
   "metadata": {},
   "outputs": [],
   "source": [
    "# Perform checks\n",
    "case_1_checks_res = [check.subs(case_1_solution) for check in case_1_checks]"
   ]
  },
  {
   "cell_type": "code",
   "execution_count": 35,
   "metadata": {},
   "outputs": [
    {
     "data": {
      "text/plain": [
       "[False, False, True, True]"
      ]
     },
     "execution_count": 35,
     "metadata": {},
     "output_type": "execute_result"
    }
   ],
   "source": [
    "case_1_checks_res"
   ]
  },
  {
   "attachments": {},
   "cell_type": "markdown",
   "metadata": {},
   "source": [
    "Some Cases are failing and hence, this is not a feasible solution."
   ]
  },
  {
   "attachments": {},
   "cell_type": "markdown",
   "metadata": {},
   "source": [
    "**CASE 2:**\n",
    "\n",
    "$\\mu_{1} = 0$ ($g_{1}(x) < 0$) and $g_{2}(x) = 0$ ($\\mu_{2} > 0$)\n",
    "\n",
    "$$2x_{1} + 3x_{2} - 12 = 0$$\n",
    "\n",
    "$$x_{1} + x_{2} - 2 + s_{1}^2 = 0$$\n",
    "\n",
    "$$x_{1} \\geq 0$$\n",
    "\n",
    "$$x_{2} \\geq 0$$\n",
    "\n",
    "$$\\mu_{1} \\geq 0$$\n",
    "\n",
    "$$\\mu_{2} \\geq 0$$"
   ]
  },
  {
   "cell_type": "code",
   "execution_count": 36,
   "metadata": {},
   "outputs": [],
   "source": [
    "# Case 2\n",
    "case_2_constraints = [sym.Eq(L_x1, 0), sym.Eq(L_x2, 0)] + case_2"
   ]
  },
  {
   "cell_type": "code",
   "execution_count": 37,
   "metadata": {},
   "outputs": [],
   "source": [
    "# Solve Case 2 and find x1, x2, m1, m2\n",
    "case_2_solution = sym.solve(case_2_constraints, [x1, x2, m1, m2])"
   ]
  },
  {
   "cell_type": "code",
   "execution_count": 38,
   "metadata": {},
   "outputs": [
    {
     "data": {
      "text/plain": [
       "{x1: 24/13, x2: 36/13, m1: 0, m2: 2/13}"
      ]
     },
     "execution_count": 38,
     "metadata": {},
     "output_type": "execute_result"
    }
   ],
   "source": [
    "case_2_solution"
   ]
  },
  {
   "cell_type": "code",
   "execution_count": 39,
   "metadata": {},
   "outputs": [],
   "source": [
    "# Perform checks for Case 2\n",
    "case_2_checks_res = [check.subs(case_2_solution) for check in case_2_checks]"
   ]
  },
  {
   "cell_type": "code",
   "execution_count": 40,
   "metadata": {},
   "outputs": [
    {
     "data": {
      "text/plain": [
       "[False, True, True, True]"
      ]
     },
     "execution_count": 40,
     "metadata": {},
     "output_type": "execute_result"
    }
   ],
   "source": [
    "case_2_checks_res"
   ]
  },
  {
   "attachments": {},
   "cell_type": "markdown",
   "metadata": {},
   "source": [
    "Some Cases are failing and hence, this is not a feasible solution."
   ]
  },
  {
   "attachments": {},
   "cell_type": "markdown",
   "metadata": {},
   "source": [
    "**CASE 3:**\n",
    "\n",
    "$g_{1}(x) = 0$ ($\\mu_{1} > 0$) and $\\mu_{2} = 0$ ($g_{2}(x) < 0$)\n",
    "\n",
    "$$2x_{1} + 3x_{2} - 12 + s_{2}^2 = 0$$\n",
    "\n",
    "$$x_{1} + x_{2} - 2 = 0$$\n",
    "\n",
    "$$x_{1} \\geq 0$$\n",
    "\n",
    "$$x_{2} \\geq 0$$\n",
    "\n",
    "$$\\mu_{1} \\geq 0$$\n",
    "\n",
    "$$\\mu_{2} \\geq 0$$"
   ]
  },
  {
   "cell_type": "code",
   "execution_count": 41,
   "metadata": {},
   "outputs": [],
   "source": [
    "# Case 3\n",
    "case_3_constraints = [sym.Eq(L_x1, 0), sym.Eq(L_x2, 0)] + case_3"
   ]
  },
  {
   "cell_type": "code",
   "execution_count": 42,
   "metadata": {},
   "outputs": [],
   "source": [
    "# Solve Case 3 and find x1, x2, m1, m2\n",
    "case_3_solution = sym.solve(case_3_constraints, [x1, x2, m1, m2])"
   ]
  },
  {
   "cell_type": "code",
   "execution_count": 43,
   "metadata": {},
   "outputs": [
    {
     "data": {
      "text/plain": [
       "{x1: 1/2, x2: 3/2, m1: 3, m2: 0}"
      ]
     },
     "execution_count": 43,
     "metadata": {},
     "output_type": "execute_result"
    }
   ],
   "source": [
    "case_3_solution"
   ]
  },
  {
   "cell_type": "code",
   "execution_count": 44,
   "metadata": {},
   "outputs": [],
   "source": [
    "# Perform checks for Case 3\n",
    "case_3_checks_res = [check.subs(case_3_solution) for check in case_3_checks]"
   ]
  },
  {
   "cell_type": "code",
   "execution_count": 45,
   "metadata": {},
   "outputs": [
    {
     "data": {
      "text/plain": [
       "[True, True, True, True]"
      ]
     },
     "execution_count": 45,
     "metadata": {},
     "output_type": "execute_result"
    }
   ],
   "source": [
    "case_3_checks_res"
   ]
  },
  {
   "attachments": {},
   "cell_type": "markdown",
   "metadata": {},
   "source": [
    "All Cases are passing and hence, this is a feasible solution.\n",
    "\n",
    "Finding the function value at $x_{1}, x_{2} = (\\dfrac{1}{2}, \\dfrac{3}{2})$"
   ]
  },
  {
   "cell_type": "code",
   "execution_count": 46,
   "metadata": {},
   "outputs": [],
   "source": [
    "f_val = f.subs(case_3_solution)"
   ]
  },
  {
   "cell_type": "code",
   "execution_count": 47,
   "metadata": {},
   "outputs": [
    {
     "data": {
      "text/latex": [
       "$\\displaystyle - \\frac{17}{2}$"
      ],
      "text/plain": [
       "-17/2"
      ]
     },
     "execution_count": 47,
     "metadata": {},
     "output_type": "execute_result"
    }
   ],
   "source": [
    "f_val"
   ]
  },
  {
   "attachments": {},
   "cell_type": "markdown",
   "metadata": {},
   "source": [
    "Here, we can see that the function value is $-8.5$\n",
    "\n",
    "Now, we need to check if it is a local minimum or a local maximum."
   ]
  },
  {
   "attachments": {},
   "cell_type": "markdown",
   "metadata": {},
   "source": [
    "To check this, we will use the following condition:\n",
    "\n",
    "$$\\triangledown^{2}f(x) + \\mu_1 \\triangledown^{2}g_{1}(x) + \\mu_2 \\triangledown^{2}g_{2}(x) \\geq 0$$"
   ]
  },
  {
   "cell_type": "code",
   "execution_count": 48,
   "metadata": {},
   "outputs": [
    {
     "data": {
      "text/latex": [
       "$\\displaystyle \\left[\\begin{matrix}2 & 0\\\\0 & 2\\end{matrix}\\right]$"
      ],
      "text/plain": [
       "Matrix([\n",
       "[2, 0],\n",
       "[0, 2]])"
      ]
     },
     "execution_count": 48,
     "metadata": {},
     "output_type": "execute_result"
    }
   ],
   "source": [
    "# Checking if the solution is a local minimum or a local maximum\n",
    "F = sym.hessian(f, [x1, x2])\n",
    "G1 = sym.hessian(g_1, [x1, x2])\n",
    "G2 = sym.hessian(g_2, [x1, x2])\n",
    "R = F + m1*G1 + m2*G2\n",
    "\n",
    "R.subs(case_3_solution)\n",
    "\n",
    "R"
   ]
  },
  {
   "cell_type": "code",
   "execution_count": 49,
   "metadata": {},
   "outputs": [
    {
     "data": {
      "text/plain": [
       "True"
      ]
     },
     "execution_count": 49,
     "metadata": {},
     "output_type": "execute_result"
    }
   ],
   "source": [
    "sym.Matrix(R.subs(case_3_solution)).is_positive_semidefinite"
   ]
  },
  {
   "cell_type": "code",
   "execution_count": 50,
   "metadata": {},
   "outputs": [
    {
     "data": {
      "text/plain": [
       "(Matrix([\n",
       " [2, 0],\n",
       " [0, 2]]),\n",
       " Matrix([\n",
       " [0, 0],\n",
       " [0, 0]]),\n",
       " Matrix([\n",
       " [0, 0],\n",
       " [0, 0]]),\n",
       " Matrix([\n",
       " [2, 0],\n",
       " [0, 2]]))"
      ]
     },
     "execution_count": 50,
     "metadata": {},
     "output_type": "execute_result"
    }
   ],
   "source": [
    "F, G1, G2, R"
   ]
  },
  {
   "attachments": {},
   "cell_type": "markdown",
   "metadata": {},
   "source": [
    "Perfect! This means that the solution is a local minimum.\n",
    "\n",
    "We cannot say that this is the true minimum value of this function using this method because we have not checked for all the possible solutions till now."
   ]
  },
  {
   "attachments": {},
   "cell_type": "markdown",
   "metadata": {},
   "source": [
    "**CASE 4:**\n",
    "\n",
    "$g_{1}(x) = 0$ ($\\mu_{1} > 0$) and $g_{2}(x) = 0$ ($\\mu_{2} > 0$)\n",
    "\n",
    "$$2x_{1} + 3x_{2} - 12 = 0$$\n",
    "\n",
    "$$x_{1} + x_{2} - 2 = 0$$\n",
    "\n",
    "$$x_{1} \\geq 0$$\n",
    "\n",
    "$$x_{2} \\geq 0$$\n",
    "\n",
    "$$\\mu_{1} \\geq 0$$\n",
    "\n",
    "$$\\mu_{2} \\geq 0$$"
   ]
  },
  {
   "cell_type": "code",
   "execution_count": 51,
   "metadata": {},
   "outputs": [],
   "source": [
    "# Case 4\n",
    "case_4_constraints = [sym.Eq(L_x1, 0), sym.Eq(L_x2, 0)] + case_4"
   ]
  },
  {
   "cell_type": "code",
   "execution_count": 52,
   "metadata": {},
   "outputs": [],
   "source": [
    "# Solve Case 4 and find x1, x2, m1, m2\n",
    "case_4_solution = sym.solve(case_4_constraints, [x1, x2, m1, m2])"
   ]
  },
  {
   "cell_type": "code",
   "execution_count": 53,
   "metadata": {},
   "outputs": [
    {
     "data": {
      "text/plain": [
       "{x1: -6, x2: 8, m1: 68, m2: -26}"
      ]
     },
     "execution_count": 53,
     "metadata": {},
     "output_type": "execute_result"
    }
   ],
   "source": [
    "case_4_solution"
   ]
  },
  {
   "cell_type": "code",
   "execution_count": 54,
   "metadata": {},
   "outputs": [],
   "source": [
    "# Perform checks for Case 4\n",
    "case_4_checks_res = [check.subs(case_4_solution) for check in case_4_checks]"
   ]
  },
  {
   "cell_type": "code",
   "execution_count": 55,
   "metadata": {},
   "outputs": [
    {
     "data": {
      "text/plain": [
       "[True, False, False, True]"
      ]
     },
     "execution_count": 55,
     "metadata": {},
     "output_type": "execute_result"
    }
   ],
   "source": [
    "case_4_checks_res"
   ]
  },
  {
   "attachments": {},
   "cell_type": "markdown",
   "metadata": {},
   "source": [
    "Some Cases are failing and hence, this is not a feasible solution."
   ]
  },
  {
   "attachments": {},
   "cell_type": "markdown",
   "metadata": {},
   "source": [
    "**Step-6:** Find the true minimum value returned by this function by checking all the possible solutions.\n",
    "\n",
    "Since, we have gotten only one feasible situation, and that solution is a local minimum, we can say that this is the true minimum value of this function.\n",
    "\n",
    "Hence, the true minimum value of this function is $-8.5$ at $x_{1}, x_{2} = (\\dfrac{1}{2}, \\dfrac{3}{2})$"
   ]
  },
  {
   "attachments": {},
   "cell_type": "markdown",
   "metadata": {},
   "source": [
    "### **Giving a General Function for this Method for any given mathematical problem with $n$ variables**"
   ]
  },
  {
   "attachments": {},
   "cell_type": "markdown",
   "metadata": {},
   "source": [
    "#### **Code:**"
   ]
  },
  {
   "attachments": {},
   "cell_type": "markdown",
   "metadata": {},
   "source": [
    "**Logger Class**"
   ]
  },
  {
   "cell_type": "code",
   "execution_count": 56,
   "metadata": {},
   "outputs": [],
   "source": [
    "import sys\n",
    "\n",
    "class Logger:\n",
    "    \n",
    "    def __init__(self, filename):\n",
    "        self.filename = filename\n",
    "\n",
    "    def write(self, message):\n",
    "        with open(self.filename, 'a') as log:\n",
    "            log.write(message + \"\\n\")\n",
    "    \n",
    "    def clear(self):\n",
    "        open(self.filename, 'w').close()"
   ]
  },
  {
   "cell_type": "code",
   "execution_count": 57,
   "metadata": {},
   "outputs": [],
   "source": [
    "l = Logger(\"log.txt\")"
   ]
  },
  {
   "cell_type": "code",
   "execution_count": 58,
   "metadata": {},
   "outputs": [],
   "source": [
    "l.write(\"Hello World\")"
   ]
  },
  {
   "attachments": {},
   "cell_type": "markdown",
   "metadata": {},
   "source": [
    "**LAGRANGIAN SOLVER**"
   ]
  },
  {
   "cell_type": "code",
   "execution_count": 59,
   "metadata": {},
   "outputs": [],
   "source": [
    "# TODO: Add Logging Support\n",
    "\n",
    "def solve_lagrangian(f, h, g, side_constraints):\n",
    "        \n",
    "    '''    \n",
    "    This function solves the Constrained Optimization Problem using the Lagrangian Method and KKT Conditions and returns all feasible solutions.\n",
    "    \n",
    "    f : sympy expression\n",
    "    \n",
    "    h : list of sympy expressions (Equality Constraints)\n",
    "    \n",
    "    g : list of sympy expressions (Inequality Constraints)\n",
    "    \n",
    "    side_constraints : list of sympy expressions (Side Constraints)\n",
    "    '''\n",
    "\n",
    "    # Type check if f, h, g are sympy expressions\n",
    "    if not isinstance(f, sym.Expr) or not isinstance(h, list) or not isinstance(g, list):\n",
    "        raise Exception(\"f, h, g must be sympy expressions\")\n",
    "    \n",
    "    # Get Free Symbols from f, h, g\n",
    "    symbols = list(set(f.free_symbols).union(*[set(h_i.free_symbols) for h_i in h]).union(*[set(g_j.free_symbols) for g_j in g]))\n",
    "    \n",
    "    # Find number of equality constraints\n",
    "    p = len(h)\n",
    "\n",
    "    # Creating Lambda matrix\n",
    "    l = sym.Matrix([sym.symbols(f\"l_{i}\") for i in range(p)])\n",
    "\n",
    "    # Find number of inequality constraints\n",
    "    m = len(g)\n",
    "\n",
    "    # Creating Mu matrix\n",
    "    u = sym.Matrix([sym.symbols(f\"u_{j}\") for j in range(m)])\n",
    "\n",
    "    # Creating S matrix\n",
    "    s = sym.Matrix([sym.symbols(f\"s_{j}\") for j in range(m)])\n",
    "\n",
    "    # Writing Lagrangian\n",
    "    L = f + sum([l[i]*h[i] for i in range(p)]) + sum([u[j]*(g[j] + s[j]**2)for j in range(m)])\n",
    "\n",
    "    # Finding the partial derivatives of the Lagrangian\n",
    "    L_x = sym.Matrix([sym.diff(L, x) for x in symbols])\n",
    "    \n",
    "    # Finding Hessians of f, every h_i, and every g_j\n",
    "    H_f = sym.hessian(f, symbols)\n",
    "    H_h = [sym.hessian(h_i, symbols) for h_i in h]\n",
    "    H_g = [sym.hessian(g_j, symbols) for g_j in g]\n",
    "    \n",
    "    # Now we need Switching Conditions\n",
    "    # We will have 2^m cases\n",
    "    \n",
    "    # First we need to find all possible combinations of m binary variables\n",
    "    # We will use 0 to represent m_i = 0 and 1 to represent m_i > 0\n",
    "    # We will use 0 to represent g_i = 0 and 1 to represent g_i < 0\n",
    "    \n",
    "    # All possible combinations of m binary variables\n",
    "    all_combinations = list(itertools.product([0, 1], repeat=m))\n",
    "\n",
    "    # Defining cases and their checks\n",
    "    cases = []\n",
    "    case_checks = []\n",
    "    \n",
    "    for combination in all_combinations:\n",
    "        \n",
    "        # 0 represents m_i = 0 i.e. g_i < 0 and 1 represents m_i > 0 i.e. g_i = 0\n",
    "        curr_case = []\n",
    "        curr_checks = []\n",
    "\n",
    "        for i in range(m):\n",
    "            if combination[i] == 0:\n",
    "                curr_case.append(sym.Eq(u[i], 0))\n",
    "                curr_checks.append(g[i] < 0)\n",
    "            else:\n",
    "                curr_case.append(sym.Eq(g[i], 0))\n",
    "                curr_checks.append(u[i] > 0)\n",
    "        \n",
    "        # Adding side constraints\n",
    "        curr_checks += side_constraints\n",
    "        \n",
    "        # Append Lagrandian partial derivative equations\n",
    "        curr_case += [sym.Eq(L_x[i], 0) for i in range(len(symbols))]\n",
    "        \n",
    "        # Add h_i = 0 equations\n",
    "        curr_case += [sym.Eq(h_i, 0) for h_i in h]\n",
    "\n",
    "        # Adding the case and its checks\n",
    "        cases.append(curr_case)\n",
    "        case_checks.append(curr_checks)\n",
    "    \n",
    "    # Let's solve all the cases and check if they are feasible\n",
    "    solutions = []\n",
    "    \n",
    "    symbols_to_solve = symbols.copy()\n",
    "    symbols_to_solve.extend(l)\n",
    "    symbols_to_solve.extend(u)\n",
    "    \n",
    "    for i in range(len(cases)):\n",
    "        \n",
    "        # Solving the current case\n",
    "        curr_solution = sym.solve(cases[i], symbols_to_solve)\n",
    "        \n",
    "        # Check if curr_solution is a list of tuples\n",
    "        if isinstance(curr_solution, list):\n",
    "            # There can be multiple solutions        \n",
    "            # We will try all the solutions and check if they are feasible        \n",
    "            for solution in curr_solution:\n",
    "                \n",
    "                # Flag to check if solution is a real number\n",
    "                flag = True\n",
    "                \n",
    "                # Converting the solution to a dictionary\n",
    "                sol_dict = {}\n",
    "                for j in range(len(symbols_to_solve)):\n",
    "\n",
    "                    # Checking if the solution[j] is a Complex Number\n",
    "                    if sym.im(solution[j]) != 0:\n",
    "                        flag = False\n",
    "                        break\n",
    "                    \n",
    "                    sol_dict[symbols_to_solve[j]] = solution[j]\n",
    "                \n",
    "                if not flag:\n",
    "                    solutions.append(None)\n",
    "                    continue\n",
    "                \n",
    "                # Checking if the current solution is feasible\n",
    "                curr_checks_res = [check.subs(sol_dict) for check in case_checks[i]]\n",
    "                \n",
    "                if all(curr_checks_res):\n",
    "                    solutions.append(solution)\n",
    "                else:\n",
    "                    solutions.append(None)\n",
    "        else:\n",
    "            \n",
    "            # Single solution\n",
    "            \n",
    "            # Flag to check if solution is a real number\n",
    "            flag = True\n",
    "            \n",
    "            # Curr_soln is a dictionary\n",
    "            for sol in curr_solution.values():\n",
    "                if sym.im(sol) != 0:\n",
    "                    flag = False\n",
    "                    break\n",
    "            \n",
    "            if not flag:\n",
    "                solutions.append(None)\n",
    "                continue\n",
    "            \n",
    "            curr_checks_res = [check.subs(curr_solution) for check in case_checks[i]]\n",
    "            \n",
    "            if all(curr_checks_res):\n",
    "                solutions.append(curr_solution)\n",
    "            else:\n",
    "                solutions.append(None)\n",
    "    \n",
    "    # Now we need to check if the solutions are local minima or local maxima\n",
    "    # We will use the following conditions\n",
    "    # H_f + sum(l_i*H_h_i) + sum(u_j*H_g_j) is positive semidefinite\n",
    "    for i in range(len(solutions)):\n",
    "        \n",
    "        if solutions[i] is not None:\n",
    "            \n",
    "            # Substituting the solution in the Hessian and adding all the Hessians\n",
    "            R = H_f.copy()\n",
    "            for i in range(p):\n",
    "                R += l[i]*H_h[i]\n",
    "            for j in range(m):\n",
    "                R += u[j]*H_g[j]\n",
    "            \n",
    "            R = R.subs(solutions[i])\n",
    "            \n",
    "            # Checking if the Hessian is positive semidefinite\n",
    "            if not sym.Matrix(R).is_positive_semidefinite:\n",
    "                solutions[i][\"type\"] = \"max\"\n",
    "            else:\n",
    "                solutions[i][\"type\"] = \"min\"\n",
    "            \n",
    "            # Add F-value to the solution\n",
    "            solutions[i][\"F\"] = f.subs(solutions[i])\n",
    "    \n",
    "    # Return Non-None Solutions\n",
    "    return [solution for solution in solutions if solution is not None]"
   ]
  },
  {
   "cell_type": "code",
   "execution_count": 60,
   "metadata": {},
   "outputs": [
    {
     "data": {
      "text/plain": [
       "[{x1: 1/2, x2: 3/2, u_0: 3, u_1: 0, 'type': 'min', 'F': -17/2}]"
      ]
     },
     "execution_count": 60,
     "metadata": {},
     "output_type": "execute_result"
    }
   ],
   "source": [
    "# Test Case\n",
    "f = x1**2 + x2**2 - 4*x1 - 6*x2\n",
    "g = [x1 + x2 - 2, 2*x1 + 3*x2 - 12]\n",
    "h = []\n",
    "\n",
    "solve_lagrangian(f, h, g, [x1 >= 0, x2 >= 0])"
   ]
  },
  {
   "attachments": {},
   "cell_type": "markdown",
   "metadata": {},
   "source": [
    "Our Code tells all feasible solutions and along with them if they are a local minimum or a local maximum."
   ]
  },
  {
   "attachments": {},
   "cell_type": "markdown",
   "metadata": {},
   "source": [
    "**Trying another example:**"
   ]
  },
  {
   "cell_type": "code",
   "execution_count": 61,
   "metadata": {},
   "outputs": [],
   "source": [
    "f = (x1 - 2.5)**2 + (x2 - 2.5)**2\n",
    "h = [2*x1 + 2*x2 - 3]\n",
    "g = []\n",
    "side_constraints = [x1 >= 0, x2 >= 0]"
   ]
  },
  {
   "cell_type": "code",
   "execution_count": 62,
   "metadata": {},
   "outputs": [
    {
     "data": {
      "text/plain": [
       "[{x1: 0.750000000000000,\n",
       "  x2: 0.750000000000000,\n",
       "  l_0: 1.75000000000000,\n",
       "  'type': 'min',\n",
       "  'F': 6.12500000000000}]"
      ]
     },
     "execution_count": 62,
     "metadata": {},
     "output_type": "execute_result"
    }
   ],
   "source": [
    "solve_lagrangian(f, h, g, side_constraints)"
   ]
  },
  {
   "attachments": {},
   "cell_type": "markdown",
   "metadata": {},
   "source": [
    "**Perfect !!!**"
   ]
  },
  {
   "attachments": {},
   "cell_type": "markdown",
   "metadata": {},
   "source": [
    "### **Another Example**\n",
    "\n",
    "Minimise $F(r, h) = ((2\\pi r h) + (2\\pi r^2)) * C$\n",
    "\n",
    "=> Same as minimising $F(r, h) = r h + r^2$\n",
    "\n",
    "Subject to:\n",
    "\n",
    "$V = \\pi r^2 h = 200 ml$\n",
    "\n",
    "$3 cm < r < 5 cm$\n",
    "\n",
    "$5 cm < h < 22 cm$\n",
    "\n",
    "$h >= 3r$ => $h - 3r >= 0$"
   ]
  },
  {
   "cell_type": "code",
   "execution_count": 63,
   "metadata": {},
   "outputs": [],
   "source": [
    "r, h1 = sym.symbols(\"r h1\")\n",
    "\n",
    "f = (r**2 + r*h1)\n",
    "\n",
    "h = [(22/7)*(r**2)*h1 - 200]\n",
    "g = [3*r - h1]\n",
    "side_constraints = [r >= 3, h1 >= 5, r <= 5, h1 <= 22]"
   ]
  },
  {
   "cell_type": "code",
   "execution_count": 64,
   "metadata": {},
   "outputs": [],
   "source": [
    "# Solving the Lagrangian\n",
    "solutions = solve_lagrangian(f, h, g, side_constraints)"
   ]
  },
  {
   "cell_type": "code",
   "execution_count": 65,
   "metadata": {},
   "outputs": [
    {
     "data": {
      "text/plain": [
       "[]"
      ]
     },
     "execution_count": 65,
     "metadata": {},
     "output_type": "execute_result"
    }
   ],
   "source": [
    "solutions"
   ]
  },
  {
   "attachments": {},
   "cell_type": "markdown",
   "metadata": {},
   "source": [
    "This means this algorithm fails in this case."
   ]
  },
  {
   "attachments": {},
   "cell_type": "markdown",
   "metadata": {},
   "source": [
    "#### Trying Exam Problems"
   ]
  },
  {
   "cell_type": "code",
   "execution_count": 66,
   "metadata": {},
   "outputs": [],
   "source": [
    "x1, x2, x3 = sym.symbols(\"x1 x2 x3\")\n",
    "\n",
    "f = x1**2 + 2*x2**2 - 3*x1 - 6*x2\n",
    "h = []\n",
    "g = [x1 + x2 - 3, x1 + 3*x2 - 10]\n",
    "side_constraints = [x2 >= 0]"
   ]
  },
  {
   "cell_type": "code",
   "execution_count": 67,
   "metadata": {},
   "outputs": [],
   "source": [
    "# Solving the Lagrangian\n",
    "solutions = solve_lagrangian(f, h, g, side_constraints)"
   ]
  },
  {
   "cell_type": "code",
   "execution_count": 68,
   "metadata": {},
   "outputs": [
    {
     "data": {
      "text/plain": [
       "[]"
      ]
     },
     "execution_count": 68,
     "metadata": {},
     "output_type": "execute_result"
    }
   ],
   "source": [
    "solutions"
   ]
  },
  {
   "attachments": {},
   "cell_type": "markdown",
   "metadata": {},
   "source": [
    "-> No Solution Possible"
   ]
  }
 ],
 "metadata": {
  "kernelspec": {
   "display_name": "mt",
   "language": "python",
   "name": "python3"
  },
  "language_info": {
   "codemirror_mode": {
    "name": "ipython",
    "version": 3
   },
   "file_extension": ".py",
   "mimetype": "text/x-python",
   "name": "python",
   "nbconvert_exporter": "python",
   "pygments_lexer": "ipython3",
   "version": "3.7.6"
  },
  "orig_nbformat": 4,
  "vscode": {
   "interpreter": {
    "hash": "d12a3414d241d65a277b7f30b382402d48a02aa8eae8e087a847021345a94c7b"
   }
  }
 },
 "nbformat": 4,
 "nbformat_minor": 2
}
